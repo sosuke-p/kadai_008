{
  "nbformat": 4,
  "nbformat_minor": 0,
  "metadata": {
    "colab": {
      "provenance": [],
      "authorship_tag": "ABX9TyOJIJ9PSQJaP2QiZ3aGj8IY",
      "include_colab_link": true
    },
    "kernelspec": {
      "name": "python3",
      "display_name": "Python 3"
    },
    "language_info": {
      "name": "python"
    }
  },
  "cells": [
    {
      "cell_type": "markdown",
      "metadata": {
        "id": "view-in-github",
        "colab_type": "text"
      },
      "source": [
        "<a href=\"https://colab.research.google.com/github/sosuke-p/kadai_008/blob/main/Untitled2.ipynb\" target=\"_parent\"><img src=\"https://colab.research.google.com/assets/colab-badge.svg\" alt=\"Open In Colab\"/></a>"
      ]
    },
    {
      "cell_type": "code",
      "execution_count": 3,
      "metadata": {
        "colab": {
          "base_uri": "https://localhost:8080/"
        },
        "id": "jsmHGn2MU_w4",
        "outputId": "353a00c0-0fe2-4da0-b55d-f60fdc533b90"
      },
      "outputs": [
        {
          "output_type": "stream",
          "name": "stdout",
          "text": [
            "FizzBuzz\n"
          ]
        }
      ],
      "source": [
        "#・変数varが、3の倍数の場合は「Fizz」を出力\n",
        "#・変数varが、5の倍数の場合は「Buzz」を出力\n",
        "#・変数varが、3の倍数と5の倍数の両方に該当する場合は「FizzBuzz」を出力\n",
        "#・上記のどの場合にも該当しない場合は、変数varの値を出力\n",
        "\n",
        "import random\n",
        "var = random.randint(0, 10000)\n",
        "\n",
        "if var % 3 ==0 and var % 5 ==0:\n",
        "    print(\"FizzBuzz\")\n",
        "elif var % 3 == 0:\n",
        "    print(\"Fizz\")\n",
        "elif var % 5 ==0:\n",
        "    print(\"Buzz\")\n",
        "else:\n",
        "   print(var)\n",
        "#質問：変数varに入力する数値をどのように指定したらよいか分かりません。\n",
        "#　　　一旦、ランダムで適当な範囲を指定して作成してみました。"
      ]
    },
    {
      "cell_type": "code",
      "source": [],
      "metadata": {
        "id": "alt8RsL08Xaj"
      },
      "execution_count": null,
      "outputs": []
    }
  ]
}